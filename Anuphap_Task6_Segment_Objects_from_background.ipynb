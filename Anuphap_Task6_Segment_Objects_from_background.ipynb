{
  "cells": [
    {
      "cell_type": "markdown",
      "metadata": {
        "id": "2eJjF_mLpCk_"
      },
      "source": [
        "# Task 6: Segment Objects from background"
      ]
    },
    {
      "cell_type": "code",
      "execution_count": 1,
      "metadata": {
        "id": "boQsylMzoDrj"
      },
      "outputs": [],
      "source": [
        "import cv2\n",
        "import numpy as np"
      ]
    },
    {
      "cell_type": "markdown",
      "metadata": {
        "id": "jaxqhUc2psHd"
      },
      "source": [
        "## Simple Thresholding"
      ]
    },
    {
      "cell_type": "code",
      "execution_count": 2,
      "metadata": {
        "id": "MrdXdTeruKdF"
      },
      "outputs": [],
      "source": [
        "image = cv2.imread(\"car.jpg\")"
      ]
    },
    {
      "cell_type": "code",
      "execution_count": 3,
      "metadata": {
        "id": "hTH--0TuuLsN"
      },
      "outputs": [],
      "source": [
        "gray = cv2.cvtColor(image, cv2.COLOR_BGR2GRAY)"
      ]
    },
    {
      "cell_type": "code",
      "execution_count": 4,
      "metadata": {
        "id": "dmiC0xxOuNF6"
      },
      "outputs": [],
      "source": [
        "blurred = cv2.GaussianBlur(gray, (5, 5), 0)"
      ]
    },
    {
      "cell_type": "code",
      "execution_count": 5,
      "metadata": {
        "id": "X4IrT3EwuP50"
      },
      "outputs": [],
      "source": [
        "(T, thresh) = cv2.threshold(gray, 155, 255, cv2.THRESH_BINARY)"
      ]
    },
    {
      "cell_type": "code",
      "execution_count": 6,
      "metadata": {
        "colab": {
          "base_uri": "https://localhost:8080/",
          "height": 646
        },
        "id": "l1OFmK16uRWV",
        "outputId": "188f2d03-bd07-4ca4-b5b0-cb68f62776b4"
      },
      "outputs": [
        {
          "name": "stderr",
          "output_type": "stream",
          "text": [
            "2023-11-19 11:00:18.825 Python[3218:29508] WARNING: Secure coding is not enabled for restorable state! Enable secure coding by implementing NSApplicationDelegate.applicationSupportsSecureRestorableState: and returning YES.\n"
          ]
        },
        {
          "data": {
            "text/plain": [
              "27"
            ]
          },
          "execution_count": 6,
          "metadata": {},
          "output_type": "execute_result"
        }
      ],
      "source": [
        "# Thresholding of Image\n",
        "cv2.imshow(\"Thresholding of Image\", np.hstack([gray, blurred, thresh]))\n",
        "cv2.waitKey(0)"
      ]
    },
    {
      "cell_type": "markdown",
      "metadata": {
        "id": "_zB_20OKw0eY"
      },
      "source": [
        "### Inverse Thresholding"
      ]
    },
    {
      "cell_type": "code",
      "execution_count": 7,
      "metadata": {
        "id": "6r7Dno-ew3cf"
      },
      "outputs": [],
      "source": [
        "(T, threshInv) = cv2.threshold(gray, 155, 255, cv2.THRESH_BINARY_INV)"
      ]
    },
    {
      "cell_type": "code",
      "execution_count": 8,
      "metadata": {
        "colab": {
          "base_uri": "https://localhost:8080/",
          "height": 488
        },
        "id": "znvT5taQw5iD",
        "outputId": "d06a63ce-2075-4577-f1ac-086edb5fda5e"
      },
      "outputs": [
        {
          "data": {
            "text/plain": [
              "27"
            ]
          },
          "execution_count": 8,
          "metadata": {},
          "output_type": "execute_result"
        }
      ],
      "source": [
        "# Thresholding of Images\n",
        "cv2.imshow(\"Thresholding of Images\", np.hstack([gray, blurred, thresh, threshInv]))\n",
        "cv2.waitKey(0)"
      ]
    },
    {
      "cell_type": "code",
      "execution_count": 9,
      "metadata": {
        "id": "rIpjjnXow8_4"
      },
      "outputs": [],
      "source": [
        "foreground = cv2.bitwise_and(image, image, mask = threshInv)"
      ]
    },
    {
      "cell_type": "code",
      "execution_count": 10,
      "metadata": {
        "colab": {
          "base_uri": "https://localhost:8080/",
          "height": 1000
        },
        "id": "TfOQCG91w_eh",
        "outputId": "0475ccad-9628-426a-91c9-4477c31fdbd3"
      },
      "outputs": [],
      "source": [
        "# Thresholding of Images\n",
        "cv2.imshow(\"Thresholding of Images\", np.hstack([gray, blurred, thresh, threshInv]))\n",
        "# Foreground extraction\n",
        "cv2.imshow(\"Foreground extraction\", np.hstack([image, foreground]))"
      ]
    },
    {
      "cell_type": "markdown",
      "metadata": {
        "id": "gn6zDreRpwrm"
      },
      "source": [
        "## Adaptive Thresholding"
      ]
    },
    {
      "cell_type": "code",
      "execution_count": 11,
      "metadata": {
        "id": "QvAGdBUyxIK-"
      },
      "outputs": [],
      "source": [
        "image = cv2.imread(\"car.jpg\")"
      ]
    },
    {
      "cell_type": "code",
      "execution_count": 12,
      "metadata": {
        "id": "vZN6gkMkxJ0g"
      },
      "outputs": [],
      "source": [
        "gray = cv2.cvtColor(image, cv2.COLOR_BGR2GRAY)"
      ]
    },
    {
      "cell_type": "code",
      "execution_count": 13,
      "metadata": {
        "id": "EPcBxtyRxMna"
      },
      "outputs": [],
      "source": [
        "blurred = cv2.GaussianBlur(gray, (5, 5), 0)"
      ]
    },
    {
      "cell_type": "code",
      "execution_count": 14,
      "metadata": {
        "id": "D2HGwPOrxN-S"
      },
      "outputs": [],
      "source": [
        "thresh = cv2.adaptiveThreshold(blurred,\n",
        "                               255,\n",
        "                               cv2.ADAPTIVE_THRESH_MEAN_C,\n",
        "                               cv2.THRESH_BINARY_INV,\n",
        "                               11,\n",
        "                               4\n",
        ")"
      ]
    },
    {
      "cell_type": "code",
      "execution_count": 15,
      "metadata": {
        "colab": {
          "base_uri": "https://localhost:8080/",
          "height": 646
        },
        "id": "7a9mh4i-xPJW",
        "outputId": "9aaa0ecc-b4f5-45f6-f46b-ec74c300e325"
      },
      "outputs": [
        {
          "data": {
            "text/plain": [
              "27"
            ]
          },
          "execution_count": 15,
          "metadata": {},
          "output_type": "execute_result"
        }
      ],
      "source": [
        "# Adaptive Thresholding of Image\n",
        "cv2.imshow(\"Adaptive Thresholding of Image\", np.hstack([gray, blurred, thresh]))\n",
        "cv2.waitKey(0)"
      ]
    },
    {
      "cell_type": "markdown",
      "metadata": {
        "id": "USYZRrgYxRcJ"
      },
      "source": [
        "### Gaussian Thresholding"
      ]
    },
    {
      "cell_type": "code",
      "execution_count": 16,
      "metadata": {
        "id": "tBL_OkgMxUnH"
      },
      "outputs": [],
      "source": [
        "gaussianthresh = cv2.adaptiveThreshold(blurred,\n",
        "                               255,\n",
        "                               cv2.ADAPTIVE_THRESH_GAUSSIAN_C,\n",
        "                               cv2.THRESH_BINARY_INV,\n",
        "                               15,\n",
        "                               3\n",
        ")"
      ]
    },
    {
      "cell_type": "code",
      "execution_count": 17,
      "metadata": {
        "colab": {
          "base_uri": "https://localhost:8080/",
          "height": 488
        },
        "id": "luEKOmdVxVnq",
        "outputId": "56295824-cd93-425a-9ee2-20d5c68b049c"
      },
      "outputs": [
        {
          "data": {
            "text/plain": [
              "27"
            ]
          },
          "execution_count": 17,
          "metadata": {},
          "output_type": "execute_result"
        }
      ],
      "source": [
        "# Gaussian Adaptive Thresholding of Images\n",
        "cv2.imshow(\"Adaptive Thresholding of Images\", np.hstack([gray, blurred, thresh, gaussianthresh]))\n",
        "cv2.waitKey(0)"
      ]
    },
    {
      "cell_type": "code",
      "execution_count": 18,
      "metadata": {
        "id": "D8eFYNILxWfk"
      },
      "outputs": [],
      "source": [
        "foregroundgaussian = cv2.bitwise_and(image, image, mask = gaussianthresh)"
      ]
    },
    {
      "cell_type": "code",
      "execution_count": 19,
      "metadata": {
        "colab": {
          "base_uri": "https://localhost:8080/",
          "height": 1000
        },
        "id": "akMxbbK2xXUK",
        "outputId": "e3dccd2f-eaab-4fef-f72f-e3dfd0b2a4af"
      },
      "outputs": [
        {
          "data": {
            "text/plain": [
              "27"
            ]
          },
          "execution_count": 19,
          "metadata": {},
          "output_type": "execute_result"
        }
      ],
      "source": [
        "# Gaussian Adaptive Thresholding of Images\n",
        "cv2.imshow(\"Gaussian Adaptive Thresholding of Images\", np.hstack([gray, blurred, thresh, gaussianthresh]))\n",
        "# Foreground extraction using Gaussian\n",
        "cv2.imshow(\"Foreground extraction using Gaussian\", np.hstack([image, foregroundgaussian]))\n",
        "cv2.waitKey(0)"
      ]
    },
    {
      "cell_type": "markdown",
      "metadata": {
        "id": "Ut4iPFSkpzoF"
      },
      "source": [
        "## Otsu Thresholding"
      ]
    },
    {
      "cell_type": "code",
      "execution_count": 20,
      "metadata": {
        "colab": {
          "base_uri": "https://localhost:8080/"
        },
        "id": "DbXdaj_f6OVv",
        "outputId": "6e5ca58a-93a3-46b5-fbdc-bd9d77aa5b7b"
      },
      "outputs": [
        {
          "name": "stdout",
          "output_type": "stream",
          "text": [
            "\u001b[33mDEPRECATION: Configuring installation scheme with distutils config files is deprecated and will no longer work in the near future. If you are using a Homebrew or Linuxbrew Python, please see discussion at https://github.com/Homebrew/homebrew-core/issues/76621\u001b[0m\u001b[33m\n",
            "\u001b[0mRequirement already satisfied: mahotas in /opt/homebrew/lib/python3.9/site-packages (1.4.13)\n",
            "Requirement already satisfied: numpy in /opt/homebrew/lib/python3.9/site-packages (from mahotas) (1.26.1)\n",
            "\u001b[33mDEPRECATION: Configuring installation scheme with distutils config files is deprecated and will no longer work in the near future. If you are using a Homebrew or Linuxbrew Python, please see discussion at https://github.com/Homebrew/homebrew-core/issues/76621\u001b[0m\u001b[33m\n",
            "\u001b[0m"
          ]
        }
      ],
      "source": [
        "!pip install mahotas"
      ]
    },
    {
      "cell_type": "code",
      "execution_count": 21,
      "metadata": {
        "id": "Wf0ob2Ffp197"
      },
      "outputs": [],
      "source": [
        "import mahotas"
      ]
    },
    {
      "cell_type": "code",
      "execution_count": 22,
      "metadata": {
        "id": "v6Ymx-ORxZ11"
      },
      "outputs": [],
      "source": [
        "image = cv2.imread(\"car.jpg\")"
      ]
    },
    {
      "cell_type": "code",
      "execution_count": 23,
      "metadata": {
        "id": "jBNiB1nUxa8c"
      },
      "outputs": [],
      "source": [
        "gray = cv2.cvtColor(image, cv2.COLOR_BGR2GRAY)"
      ]
    },
    {
      "cell_type": "code",
      "execution_count": 24,
      "metadata": {
        "id": "E6KzMrCGxcBa"
      },
      "outputs": [],
      "source": [
        "blurred = cv2.GaussianBlur(gray, (5, 5), 0)"
      ]
    },
    {
      "cell_type": "code",
      "execution_count": 25,
      "metadata": {
        "id": "2jP7ocyUxdZe"
      },
      "outputs": [],
      "source": [
        "T = mahotas.thresholding.otsu(blurred)"
      ]
    },
    {
      "cell_type": "code",
      "execution_count": 26,
      "metadata": {
        "id": "qI_ZGJ_OxfgY"
      },
      "outputs": [],
      "source": [
        "thresh = image.copy()"
      ]
    },
    {
      "cell_type": "code",
      "execution_count": 27,
      "metadata": {
        "id": "SEXyYR_5xgJk"
      },
      "outputs": [],
      "source": [
        "thresh[thresh > T] = 255"
      ]
    },
    {
      "cell_type": "code",
      "execution_count": 28,
      "metadata": {
        "id": "KaHbJgs7xhXc"
      },
      "outputs": [],
      "source": [
        "thresh[thresh < 255] = 0"
      ]
    },
    {
      "cell_type": "code",
      "execution_count": 29,
      "metadata": {
        "id": "wr7BzRGoxiUY"
      },
      "outputs": [],
      "source": [
        "thresh = cv2.bitwise_not(thresh)"
      ]
    },
    {
      "cell_type": "code",
      "execution_count": 30,
      "metadata": {
        "colab": {
          "base_uri": "https://localhost:8080/",
          "height": 960
        },
        "id": "vh0HntHrxjMe",
        "outputId": "79d7d5d8-bd8e-4808-ef04-21b2b23e251b"
      },
      "outputs": [
        {
          "data": {
            "text/plain": [
              "27"
            ]
          },
          "execution_count": 30,
          "metadata": {},
          "output_type": "execute_result"
        }
      ],
      "source": [
        "# OTSU Thresholding of Images\n",
        "cv2.imshow(\"OTSU Thresholding of Images\", np.hstack([image, thresh]))\n",
        "cv2.waitKey(0)"
      ]
    },
    {
      "cell_type": "markdown",
      "metadata": {
        "id": "vwc6EwS8xpUs"
      },
      "source": [
        "## Riddler-Calvard Thresholding"
      ]
    },
    {
      "cell_type": "code",
      "execution_count": 31,
      "metadata": {
        "id": "zICnxVRjxpCm"
      },
      "outputs": [],
      "source": [
        "T_RC = mahotas.thresholding.rc(blurred)"
      ]
    },
    {
      "cell_type": "code",
      "execution_count": 32,
      "metadata": {
        "id": "LdF38rLbxsoO"
      },
      "outputs": [],
      "source": [
        "thresh_RC = image.copy()"
      ]
    },
    {
      "cell_type": "code",
      "execution_count": 33,
      "metadata": {
        "id": "qHJkJnrkxtTX"
      },
      "outputs": [],
      "source": [
        "thresh_RC[thresh_RC > T_RC] = 255"
      ]
    },
    {
      "cell_type": "code",
      "execution_count": 34,
      "metadata": {
        "id": "TCLLOM98xt77"
      },
      "outputs": [],
      "source": [
        "thresh_RC[thresh_RC < 255] = 0"
      ]
    },
    {
      "cell_type": "code",
      "execution_count": 35,
      "metadata": {
        "id": "GQuEYizuxvSm"
      },
      "outputs": [],
      "source": [
        "thresh_RC = cv2.bitwise_not(thresh_RC)"
      ]
    },
    {
      "cell_type": "code",
      "execution_count": 36,
      "metadata": {
        "colab": {
          "base_uri": "https://localhost:8080/",
          "height": 960
        },
        "id": "owbVEIp7xwAz",
        "outputId": "748417b6-cfb8-492a-adc9-b79094e1c11e"
      },
      "outputs": [
        {
          "data": {
            "text/plain": [
              "27"
            ]
          },
          "execution_count": 36,
          "metadata": {},
          "output_type": "execute_result"
        }
      ],
      "source": [
        "# RC Thresholding of Images\n",
        "cv2.imshow(\"RC Thresholding of Images\", np.hstack([image, thresh_RC]))\n",
        "cv2.waitKey(0)"
      ]
    }
  ],
  "metadata": {
    "colab": {
      "provenance": []
    },
    "kernelspec": {
      "display_name": "Python 3",
      "name": "python3"
    },
    "language_info": {
      "codemirror_mode": {
        "name": "ipython",
        "version": 3
      },
      "file_extension": ".py",
      "mimetype": "text/x-python",
      "name": "python",
      "nbconvert_exporter": "python",
      "pygments_lexer": "ipython3",
      "version": "3.11.6"
    }
  },
  "nbformat": 4,
  "nbformat_minor": 0
}
